{
 "cells": [
  {
   "cell_type": "code",
   "execution_count": 2,
   "id": "98897ebe-10b6-42f6-896f-8507380f9d20",
   "metadata": {
    "execution": {
     "iopub.execute_input": "2023-04-29T10:57:51.791207Z",
     "iopub.status.busy": "2023-04-29T10:57:51.790158Z",
     "iopub.status.idle": "2023-04-29T10:58:01.583458Z",
     "shell.execute_reply": "2023-04-29T10:58:01.582832Z",
     "shell.execute_reply.started": "2023-04-29T10:57:51.791129Z"
    }
   },
   "outputs": [
    {
     "name": "stdout",
     "output_type": "stream",
     "text": [
      "Collecting faiss-cpu\n",
      "  Downloading faiss_cpu-1.7.4-cp39-cp39-macosx_10_9_x86_64.whl (6.5 MB)\n",
      "\u001b[2K     \u001b[90m━━━━━━━━━━━━━━━━━━━━━━━━━━━━━━━━━━━━━━━━\u001b[0m \u001b[32m6.5/6.5 MB\u001b[0m \u001b[31m1.9 MB/s\u001b[0m eta \u001b[36m0:00:00\u001b[0m00:01\u001b[0m00:01\u001b[0m0m\n",
      "\u001b[?25hInstalling collected packages: faiss-cpu\n",
      "Successfully installed faiss-cpu-1.7.4\n",
      "Note: you may need to restart the kernel to use updated packages.\n"
     ]
    }
   ],
   "source": [
    "pip install faiss-cpu"
   ]
  },
  {
   "cell_type": "code",
   "execution_count": 3,
   "id": "99873d78-590c-4488-a3e3-0a5241f111a8",
   "metadata": {
    "execution": {
     "iopub.execute_input": "2023-04-29T10:58:01.585556Z",
     "iopub.status.busy": "2023-04-29T10:58:01.585343Z",
     "iopub.status.idle": "2023-04-29T10:58:02.585379Z",
     "shell.execute_reply": "2023-04-29T10:58:02.585046Z",
     "shell.execute_reply.started": "2023-04-29T10:58:01.585535Z"
    },
    "tags": []
   },
   "outputs": [],
   "source": [
    "import os\n",
    "# os.chdir(os.path.dirname(os.path.realpath(__file__)))\n",
    "import sys\n",
    "# sys.path.append('../../')\n",
    "sys.path.append('../')\n",
    "sys.path.append('../model_zoo/SimpleX/src/')\n",
    "from matchbox import datasets\n",
    "from datetime import datetime\n",
    "from matchbox.utils import load_config, set_logger, print_to_json, print_to_list\n",
    "from matchbox.features import FeatureMap, FeatureEncoder\n",
    "# import model_zoo.SimpleX.src as models\n",
    "from SimpleX import SimpleX\n",
    "from matchbox.pytorch.torch_utils import seed_everything\n",
    "import gc\n",
    "import argparse\n",
    "import logging\n",
    "import os\n",
    "from pathlib import Path\n",
    "import torch"
   ]
  },
  {
   "cell_type": "code",
   "execution_count": 2,
   "id": "f560d780-bc8c-487d-b94a-fee23675a59c",
   "metadata": {
    "execution": {
     "iopub.execute_input": "2023-04-29T08:23:36.477358Z",
     "iopub.status.busy": "2023-04-29T08:23:36.476952Z",
     "iopub.status.idle": "2023-04-29T08:23:36.620427Z",
     "shell.execute_reply": "2023-04-29T08:23:36.618988Z",
     "shell.execute_reply.started": "2023-04-29T08:23:36.477332Z"
    },
    "tags": []
   },
   "outputs": [
    {
     "name": "stdout",
     "output_type": "stream",
     "text": [
      "\u001b[1m\u001b[36mSimpleX_amazonbooks_m1\u001b[m\u001b[m \u001b[1m\u001b[36mSimpleX_gowalla_m1\u001b[m\u001b[m     \u001b[1m\u001b[36mSimpleX_yelp18_m1\u001b[m\u001b[m\n"
     ]
    }
   ],
   "source": [
    "!ls ../model_zoo/SimpleX/config/"
   ]
  },
  {
   "cell_type": "code",
   "execution_count": 3,
   "id": "090cf62b-26b5-42c4-b01e-309b8f56307c",
   "metadata": {
    "execution": {
     "iopub.execute_input": "2023-04-29T08:23:36.625041Z",
     "iopub.status.busy": "2023-04-29T08:23:36.624592Z",
     "iopub.status.idle": "2023-04-29T08:23:36.645610Z",
     "shell.execute_reply": "2023-04-29T08:23:36.644923Z",
     "shell.execute_reply.started": "2023-04-29T08:23:36.624979Z"
    },
    "tags": []
   },
   "outputs": [
    {
     "name": "stderr",
     "output_type": "stream",
     "text": [
      "../matchbox/utils.py:33: YAMLLoadWarning: calling yaml.load() without Loader=... is deprecated, as the default Loader is unsafe. Please read https://msg.pyyaml.org/load for full details.\n",
      "  config_dict = yaml.load(cfg)\n",
      "../matchbox/utils.py:53: YAMLLoadWarning: calling yaml.load() without Loader=... is deprecated, as the default Loader is unsafe. Please read https://msg.pyyaml.org/load for full details.\n",
      "  config_dict = yaml.load(cfg)\n"
     ]
    }
   ],
   "source": [
    "experiment_id = 'SimpleX_yelp18_m1'\n",
    "params = load_config('../model_zoo/SimpleX/config/SimpleX_yelp18_m1', experiment_id)\n",
    "params['gpu'] = -1\n",
    "\n",
    "seed_everything(seed=params['seed'])\n",
    "dataset = params['dataset_id'].split('_')[0].lower()\n",
    "params['data_root'] = '../data/Yelp18/'\n",
    "data_dir = os.path.join(params['data_root'], params['dataset_id'])"
   ]
  },
  {
   "cell_type": "code",
   "execution_count": 4,
   "id": "e0538e7f-d67c-4db4-8a2e-c2a83769cfb0",
   "metadata": {
    "execution": {
     "iopub.execute_input": "2023-04-29T08:23:36.647637Z",
     "iopub.status.busy": "2023-04-29T08:23:36.646938Z",
     "iopub.status.idle": "2023-04-29T08:23:36.654913Z",
     "shell.execute_reply": "2023-04-29T08:23:36.653690Z",
     "shell.execute_reply.started": "2023-04-29T08:23:36.647597Z"
    },
    "tags": []
   },
   "outputs": [],
   "source": [
    "feature_encoder = FeatureEncoder(**params)\n",
    "feature_encoder.feature_map.load(feature_encoder.json_file)\n",
    "feature_map = feature_encoder.feature_map\n",
    "params[\"train_data\"] = os.path.join(data_dir, 'train*.h5')\n",
    "params[\"valid_data\"] = os.path.join(data_dir, 'valid*.h5')\n",
    "if \"test_data\" in params:\n",
    "    params[\"test_data\"] = os.path.join(data_dir, 'test*.h5')\n",
    "params[\"item_corpus\"] = os.path.join(data_dir, 'item_corpus.h5')"
   ]
  },
  {
   "cell_type": "code",
   "execution_count": 5,
   "id": "f0978324-6b34-40dc-bb41-b00c2be05d00",
   "metadata": {
    "execution": {
     "iopub.execute_input": "2023-04-29T08:23:36.658014Z",
     "iopub.status.busy": "2023-04-29T08:23:36.657528Z",
     "iopub.status.idle": "2023-04-29T08:23:36.731988Z",
     "shell.execute_reply": "2023-04-29T08:23:36.731299Z",
     "shell.execute_reply.started": "2023-04-29T08:23:36.657976Z"
    },
    "tags": []
   },
   "outputs": [],
   "source": [
    "model = SimpleX(feature_map, **params)\n",
    "model.count_parameters() # print number of parameters used in model"
   ]
  },
  {
   "cell_type": "code",
   "execution_count": 6,
   "id": "371d42e9-dd9c-4842-ad5b-b638e1500838",
   "metadata": {
    "execution": {
     "iopub.execute_input": "2023-04-29T08:23:36.733607Z",
     "iopub.status.busy": "2023-04-29T08:23:36.733140Z",
     "iopub.status.idle": "2023-04-29T08:23:36.739342Z",
     "shell.execute_reply": "2023-04-29T08:23:36.738356Z",
     "shell.execute_reply.started": "2023-04-29T08:23:36.733582Z"
    },
    "tags": []
   },
   "outputs": [],
   "source": [
    "user1 = [ 15206, 23624,  6230,  2522,  5402, 13547,   883,  1179,  3544,   549, 35264, 14587, 35951]\n",
    "user2 = [ 3002,  8692, 48, 908,  2002,   478,  9388,  8423, 37628,    92,  4877,   920, 33681]\n",
    "user_dict = {\n",
    "    'user_history':torch.tensor([user1, user2]),\n",
    "    'user_id':torch.tensor([27736,  7459])\n",
    "}\n",
    "item_dict = {\n",
    "    'item_id': torch.tensor(user1 + user2)\n",
    "}"
   ]
  },
  {
   "cell_type": "code",
   "execution_count": 7,
   "id": "62ed586d-4a26-4c60-a184-3c613351605c",
   "metadata": {
    "execution": {
     "iopub.execute_input": "2023-04-29T08:23:37.327882Z",
     "iopub.status.busy": "2023-04-29T08:23:37.327407Z",
     "iopub.status.idle": "2023-04-29T08:23:37.334986Z",
     "shell.execute_reply": "2023-04-29T08:23:37.333739Z",
     "shell.execute_reply.started": "2023-04-29T08:23:37.327841Z"
    },
    "tags": []
   },
   "outputs": [],
   "source": [
    "# model.load_weights(model.checkpoint)"
   ]
  },
  {
   "cell_type": "code",
   "execution_count": 12,
   "id": "5bfdeb2c-e151-4e4f-be86-6efa3ab381a1",
   "metadata": {
    "execution": {
     "iopub.execute_input": "2023-04-29T08:24:26.392569Z",
     "iopub.status.busy": "2023-04-29T08:24:26.392174Z",
     "iopub.status.idle": "2023-04-29T08:24:26.401499Z",
     "shell.execute_reply": "2023-04-29T08:24:26.399983Z",
     "shell.execute_reply.started": "2023-04-29T08:24:26.392531Z"
    },
    "tags": []
   },
   "outputs": [],
   "source": [
    "pred = model([user_dict, item_dict, []], training=False)['y_pred']"
   ]
  },
  {
   "cell_type": "code",
   "execution_count": 13,
   "id": "850542a1-5a34-46bc-bf9e-47b59b734b58",
   "metadata": {
    "execution": {
     "iopub.execute_input": "2023-04-29T08:24:27.646346Z",
     "iopub.status.busy": "2023-04-29T08:24:27.645909Z",
     "iopub.status.idle": "2023-04-29T08:24:27.656770Z",
     "shell.execute_reply": "2023-04-29T08:24:27.653581Z",
     "shell.execute_reply.started": "2023-04-29T08:24:27.646294Z"
    },
    "tags": []
   },
   "outputs": [
    {
     "data": {
      "text/plain": [
       "tensor([[ 0.3096,  0.0758,  0.0694, -0.0739, -0.1653, -0.2259,  0.0904, -0.0189,\n",
       "         -0.2329, -0.0122,  0.0015,  0.1261,  0.1827, -0.0286,  0.0899, -0.1308,\n",
       "          0.0062, -0.1097, -0.0316, -0.0330,  0.1335, -0.3738,  0.1013,  0.1242,\n",
       "         -0.1633,  0.1054],\n",
       "        [ 0.0463,  0.0116,  0.0713, -0.0337,  0.1111, -0.0601,  0.0392,  0.0676,\n",
       "         -0.0845,  0.0533, -0.0791,  0.0660, -0.0670, -0.1479, -0.0404, -0.2388,\n",
       "         -0.0265, -0.0814,  0.0893,  0.2623,  0.1442,  0.0444,  0.0486, -0.2136,\n",
       "          0.0819,  0.0058]], grad_fn=<SqueezeBackward1>)"
      ]
     },
     "execution_count": 13,
     "metadata": {},
     "output_type": "execute_result"
    }
   ],
   "source": [
    "pred"
   ]
  },
  {
   "cell_type": "code",
   "execution_count": 28,
   "id": "f8311c4b-fe3e-4153-a57a-3ffbe3b9f35c",
   "metadata": {
    "collapsed": true,
    "execution": {
     "iopub.execute_input": "2023-04-29T07:32:50.876583Z",
     "iopub.status.busy": "2023-04-29T07:32:50.876109Z",
     "iopub.status.idle": "2023-04-29T07:33:22.593894Z",
     "shell.execute_reply": "2023-04-29T07:33:22.592251Z",
     "shell.execute_reply.started": "2023-04-29T07:32:50.876530Z"
    },
    "jupyter": {
     "outputs_hidden": true
    },
    "tags": []
   },
   "outputs": [
    {
     "name": "stderr",
     "output_type": "stream",
     "text": [
      "  0%|                                                                                                                                                                                                          | 0/2417 [00:26<?, ?it/s]\n"
     ]
    },
    {
     "ename": "KeyboardInterrupt",
     "evalue": "",
     "output_type": "error",
     "traceback": [
      "\u001b[0;31m---------------------------------------------------------------------------\u001b[0m",
      "\u001b[0;31mKeyboardInterrupt\u001b[0m                         Traceback (most recent call last)",
      "\u001b[0;32m/var/folders/sw/2ncgzf7x14b7d_t_jh9fdzz40000gn/T/ipykernel_21548/821473708.py\u001b[0m in \u001b[0;36m<module>\u001b[0;34m\u001b[0m\n\u001b[1;32m      1\u001b[0m \u001b[0mtrain_gen\u001b[0m\u001b[0;34m,\u001b[0m \u001b[0mvalid_gen\u001b[0m \u001b[0;34m=\u001b[0m \u001b[0mdatasets\u001b[0m\u001b[0;34m.\u001b[0m\u001b[0mh5_generator\u001b[0m\u001b[0;34m(\u001b[0m\u001b[0mfeature_map\u001b[0m\u001b[0;34m,\u001b[0m \u001b[0mstage\u001b[0m\u001b[0;34m=\u001b[0m\u001b[0;34m'train'\u001b[0m\u001b[0;34m,\u001b[0m \u001b[0;34m**\u001b[0m\u001b[0mparams\u001b[0m\u001b[0;34m)\u001b[0m\u001b[0;34m\u001b[0m\u001b[0;34m\u001b[0m\u001b[0m\n\u001b[0;32m----> 2\u001b[0;31m \u001b[0mmodel\u001b[0m\u001b[0;34m.\u001b[0m\u001b[0mfit\u001b[0m\u001b[0;34m(\u001b[0m\u001b[0mtrain_gen\u001b[0m\u001b[0;34m,\u001b[0m \u001b[0mvalid_generator\u001b[0m\u001b[0;34m=\u001b[0m\u001b[0mvalid_gen\u001b[0m\u001b[0;34m,\u001b[0m \u001b[0;34m**\u001b[0m\u001b[0mparams\u001b[0m\u001b[0;34m)\u001b[0m\u001b[0;34m\u001b[0m\u001b[0;34m\u001b[0m\u001b[0m\n\u001b[0m\u001b[1;32m      3\u001b[0m \u001b[0mmodel\u001b[0m\u001b[0;34m.\u001b[0m\u001b[0mload_weights\u001b[0m\u001b[0;34m(\u001b[0m\u001b[0mmodel\u001b[0m\u001b[0;34m.\u001b[0m\u001b[0mcheckpoint\u001b[0m\u001b[0;34m)\u001b[0m\u001b[0;34m\u001b[0m\u001b[0;34m\u001b[0m\u001b[0m\n",
      "\u001b[0;32m~/dev/lab/MatchBox/matchbox/pytorch/models/base_model.py\u001b[0m in \u001b[0;36mfit\u001b[0;34m(self, train_generator, epochs, valid_generator, verbose, max_gradient_norm, **kwargs)\u001b[0m\n\u001b[1;32m    174\u001b[0m         \u001b[0mlogging\u001b[0m\u001b[0;34m.\u001b[0m\u001b[0minfo\u001b[0m\u001b[0;34m(\u001b[0m\u001b[0;34m\"**** Start training: {} batches/epoch ****\"\u001b[0m\u001b[0;34m.\u001b[0m\u001b[0mformat\u001b[0m\u001b[0;34m(\u001b[0m\u001b[0mself\u001b[0m\u001b[0;34m.\u001b[0m\u001b[0m_batches_per_epoch\u001b[0m\u001b[0;34m)\u001b[0m\u001b[0;34m)\u001b[0m\u001b[0;34m\u001b[0m\u001b[0;34m\u001b[0m\u001b[0m\n\u001b[1;32m    175\u001b[0m         \u001b[0;32mfor\u001b[0m \u001b[0mepoch\u001b[0m \u001b[0;32min\u001b[0m \u001b[0mrange\u001b[0m\u001b[0;34m(\u001b[0m\u001b[0mepochs\u001b[0m\u001b[0;34m)\u001b[0m\u001b[0;34m:\u001b[0m\u001b[0;34m\u001b[0m\u001b[0;34m\u001b[0m\u001b[0m\n\u001b[0;32m--> 176\u001b[0;31m             \u001b[0mepoch_loss\u001b[0m \u001b[0;34m=\u001b[0m \u001b[0mself\u001b[0m\u001b[0;34m.\u001b[0m\u001b[0mtrain_on_epoch\u001b[0m\u001b[0;34m(\u001b[0m\u001b[0mtrain_generator\u001b[0m\u001b[0;34m,\u001b[0m \u001b[0mepoch\u001b[0m\u001b[0;34m)\u001b[0m\u001b[0;34m\u001b[0m\u001b[0;34m\u001b[0m\u001b[0m\n\u001b[0m\u001b[1;32m    177\u001b[0m             \u001b[0mlogging\u001b[0m\u001b[0;34m.\u001b[0m\u001b[0minfo\u001b[0m\u001b[0;34m(\u001b[0m\u001b[0;34m\"Train loss: {:.6f}\"\u001b[0m\u001b[0;34m.\u001b[0m\u001b[0mformat\u001b[0m\u001b[0;34m(\u001b[0m\u001b[0mepoch_loss\u001b[0m\u001b[0;34m)\u001b[0m\u001b[0;34m)\u001b[0m\u001b[0;34m\u001b[0m\u001b[0;34m\u001b[0m\u001b[0m\n\u001b[1;32m    178\u001b[0m             \u001b[0;32mif\u001b[0m \u001b[0mself\u001b[0m\u001b[0;34m.\u001b[0m\u001b[0m_stop_training\u001b[0m\u001b[0;34m:\u001b[0m\u001b[0;34m\u001b[0m\u001b[0;34m\u001b[0m\u001b[0m\n",
      "\u001b[0;32m~/dev/lab/MatchBox/matchbox/pytorch/models/base_model.py\u001b[0m in \u001b[0;36mtrain_on_epoch\u001b[0;34m(self, train_generator, epoch)\u001b[0m\n\u001b[1;32m    190\u001b[0m         \u001b[0;32mif\u001b[0m \u001b[0mself\u001b[0m\u001b[0;34m.\u001b[0m\u001b[0m_verbose\u001b[0m \u001b[0;34m>\u001b[0m \u001b[0;36m0\u001b[0m\u001b[0;34m:\u001b[0m\u001b[0;34m\u001b[0m\u001b[0;34m\u001b[0m\u001b[0m\n\u001b[1;32m    191\u001b[0m             \u001b[0mbatch_generator\u001b[0m \u001b[0;34m=\u001b[0m \u001b[0mtqdm\u001b[0m\u001b[0;34m(\u001b[0m\u001b[0mtrain_generator\u001b[0m\u001b[0;34m,\u001b[0m \u001b[0mdisable\u001b[0m\u001b[0;34m=\u001b[0m\u001b[0;32mFalse\u001b[0m\u001b[0;34m)\u001b[0m\u001b[0;31m#, file=sys.stdout)\u001b[0m\u001b[0;34m\u001b[0m\u001b[0;34m\u001b[0m\u001b[0m\n\u001b[0;32m--> 192\u001b[0;31m         \u001b[0;32mfor\u001b[0m \u001b[0mbatch_index\u001b[0m\u001b[0;34m,\u001b[0m \u001b[0mbatch_data\u001b[0m \u001b[0;32min\u001b[0m \u001b[0menumerate\u001b[0m\u001b[0;34m(\u001b[0m\u001b[0mbatch_generator\u001b[0m\u001b[0;34m)\u001b[0m\u001b[0;34m:\u001b[0m\u001b[0;34m\u001b[0m\u001b[0;34m\u001b[0m\u001b[0m\n\u001b[0m\u001b[1;32m    193\u001b[0m             \u001b[0mself\u001b[0m\u001b[0;34m.\u001b[0m\u001b[0moptimizer\u001b[0m\u001b[0;34m.\u001b[0m\u001b[0mzero_grad\u001b[0m\u001b[0;34m(\u001b[0m\u001b[0;34m)\u001b[0m\u001b[0;34m\u001b[0m\u001b[0;34m\u001b[0m\u001b[0m\n\u001b[1;32m    194\u001b[0m             \u001b[0mreturn_dict\u001b[0m \u001b[0;34m=\u001b[0m \u001b[0mmodel\u001b[0m\u001b[0;34m.\u001b[0m\u001b[0mforward\u001b[0m\u001b[0;34m(\u001b[0m\u001b[0mbatch_data\u001b[0m\u001b[0;34m)\u001b[0m\u001b[0;34m\u001b[0m\u001b[0;34m\u001b[0m\u001b[0m\n",
      "\u001b[0;32m~/anaconda3/envs/RecBole/lib/python3.8/site-packages/tqdm/std.py\u001b[0m in \u001b[0;36m__iter__\u001b[0;34m(self)\u001b[0m\n\u001b[1;32m   1176\u001b[0m \u001b[0;34m\u001b[0m\u001b[0m\n\u001b[1;32m   1177\u001b[0m         \u001b[0;32mtry\u001b[0m\u001b[0;34m:\u001b[0m\u001b[0;34m\u001b[0m\u001b[0;34m\u001b[0m\u001b[0m\n\u001b[0;32m-> 1178\u001b[0;31m             \u001b[0;32mfor\u001b[0m \u001b[0mobj\u001b[0m \u001b[0;32min\u001b[0m \u001b[0miterable\u001b[0m\u001b[0;34m:\u001b[0m\u001b[0;34m\u001b[0m\u001b[0;34m\u001b[0m\u001b[0m\n\u001b[0m\u001b[1;32m   1179\u001b[0m                 \u001b[0;32myield\u001b[0m \u001b[0mobj\u001b[0m\u001b[0;34m\u001b[0m\u001b[0;34m\u001b[0m\u001b[0m\n\u001b[1;32m   1180\u001b[0m                 \u001b[0;31m# Update and possibly print the progressbar.\u001b[0m\u001b[0;34m\u001b[0m\u001b[0;34m\u001b[0m\u001b[0;34m\u001b[0m\u001b[0m\n",
      "\u001b[0;32m~/dev/lab/MatchBox/matchbox/pytorch/data_generator.py\u001b[0m in \u001b[0;36m__iter__\u001b[0;34m(self)\u001b[0m\n\u001b[1;32m    130\u001b[0m \u001b[0;34m\u001b[0m\u001b[0m\n\u001b[1;32m    131\u001b[0m     \u001b[0;32mdef\u001b[0m \u001b[0m__iter__\u001b[0m\u001b[0;34m(\u001b[0m\u001b[0mself\u001b[0m\u001b[0;34m)\u001b[0m\u001b[0;34m:\u001b[0m\u001b[0;34m\u001b[0m\u001b[0;34m\u001b[0m\u001b[0m\n\u001b[0;32m--> 132\u001b[0;31m         \u001b[0mself\u001b[0m\u001b[0;34m.\u001b[0m\u001b[0mnegative_sampling\u001b[0m\u001b[0;34m(\u001b[0m\u001b[0;34m)\u001b[0m\u001b[0;34m\u001b[0m\u001b[0;34m\u001b[0m\u001b[0m\n\u001b[0m\u001b[1;32m    133\u001b[0m         \u001b[0miter\u001b[0m \u001b[0;34m=\u001b[0m \u001b[0msuper\u001b[0m\u001b[0;34m(\u001b[0m\u001b[0mTrainGenerator\u001b[0m\u001b[0;34m,\u001b[0m \u001b[0mself\u001b[0m\u001b[0;34m)\u001b[0m\u001b[0;34m.\u001b[0m\u001b[0m__iter__\u001b[0m\u001b[0;34m(\u001b[0m\u001b[0;34m)\u001b[0m\u001b[0;34m\u001b[0m\u001b[0;34m\u001b[0m\u001b[0m\n\u001b[1;32m    134\u001b[0m         \u001b[0;32mwhile\u001b[0m \u001b[0;32mTrue\u001b[0m\u001b[0;34m:\u001b[0m\u001b[0;34m\u001b[0m\u001b[0;34m\u001b[0m\u001b[0m\n",
      "\u001b[0;32m~/dev/lab/MatchBox/matchbox/pytorch/data_generator.py\u001b[0m in \u001b[0;36mnegative_sampling\u001b[0;34m(self)\u001b[0m\n\u001b[1;32m    170\u001b[0m                 \u001b[0mneg_item_indexes\u001b[0m \u001b[0;34m=\u001b[0m \u001b[0mnp\u001b[0m\u001b[0;34m.\u001b[0m\u001b[0mvstack\u001b[0m\u001b[0;34m(\u001b[0m\u001b[0mblock_result\u001b[0m\u001b[0;34m)\u001b[0m\u001b[0;34m\u001b[0m\u001b[0;34m\u001b[0m\u001b[0m\n\u001b[1;32m    171\u001b[0m             \u001b[0;32melse\u001b[0m\u001b[0;34m:\u001b[0m\u001b[0;34m\u001b[0m\u001b[0;34m\u001b[0m\u001b[0m\n\u001b[0;32m--> 172\u001b[0;31m                 neg_item_indexes = sampling_block(self.dataset.num_items, \n\u001b[0m\u001b[1;32m    173\u001b[0m                                                   \u001b[0mself\u001b[0m\u001b[0;34m.\u001b[0m\u001b[0mquery_indexes\u001b[0m\u001b[0;34m,\u001b[0m\u001b[0;34m\u001b[0m\u001b[0;34m\u001b[0m\u001b[0m\n\u001b[1;32m    174\u001b[0m                                                   \u001b[0mself\u001b[0m\u001b[0;34m.\u001b[0m\u001b[0mnum_negs\u001b[0m\u001b[0;34m,\u001b[0m\u001b[0;34m\u001b[0m\u001b[0;34m\u001b[0m\u001b[0m\n",
      "\u001b[0;32m~/dev/lab/MatchBox/matchbox/pytorch/data_generator.py\u001b[0m in \u001b[0;36msampling_block\u001b[0;34m(num_items, block_query_indexes, num_negs, user2items_dict, sampling_probs, ignore_pos_items, seed, dump_path)\u001b[0m\n\u001b[1;32m     85\u001b[0m         \u001b[0msampled_array\u001b[0m \u001b[0;34m=\u001b[0m \u001b[0mnp\u001b[0m\u001b[0;34m.\u001b[0m\u001b[0marray\u001b[0m\u001b[0;34m(\u001b[0m\u001b[0msampled_items\u001b[0m\u001b[0;34m)\u001b[0m\u001b[0;34m\u001b[0m\u001b[0;34m\u001b[0m\u001b[0m\n\u001b[1;32m     86\u001b[0m     \u001b[0;32melse\u001b[0m\u001b[0;34m:\u001b[0m\u001b[0;34m\u001b[0m\u001b[0;34m\u001b[0m\u001b[0m\n\u001b[0;32m---> 87\u001b[0;31m         sampled_array = np.random.choice(num_items,\n\u001b[0m\u001b[1;32m     88\u001b[0m                                          \u001b[0msize\u001b[0m\u001b[0;34m=\u001b[0m\u001b[0;34m(\u001b[0m\u001b[0mlen\u001b[0m\u001b[0;34m(\u001b[0m\u001b[0mblock_query_indexes\u001b[0m\u001b[0;34m)\u001b[0m\u001b[0;34m,\u001b[0m \u001b[0mnum_negs\u001b[0m\u001b[0;34m)\u001b[0m\u001b[0;34m,\u001b[0m\u001b[0;34m\u001b[0m\u001b[0;34m\u001b[0m\u001b[0m\n\u001b[1;32m     89\u001b[0m                                          replace=True)\n",
      "\u001b[0;31mKeyboardInterrupt\u001b[0m: "
     ]
    }
   ],
   "source": [
    "# train_gen, valid_gen = datasets.h5_generator(feature_map, stage='train', **params)\n",
    "# model.fit(train_gen, valid_generator=valid_gen, **params)\n"
   ]
  },
  {
   "cell_type": "code",
   "execution_count": null,
   "id": "624d78b3-6396-4f0a-8d54-413c8c0d161d",
   "metadata": {
    "execution": {
     "iopub.execute_input": "2023-04-29T07:47:06.293056Z",
     "iopub.status.busy": "2023-04-29T07:47:06.289702Z"
    },
    "tags": []
   },
   "outputs": [],
   "source": [
    "\n",
    "\n",
    "logging.info('****** Validation evaluation ******')\n",
    "valid_result = model.evaluate(train_gen, valid_gen)\n",
    "del valid_gen\n",
    "gc.collect()\n",
    "\n",
    "test_result = dict()\n",
    "if \"test_data\" in params:\n",
    "    logging.info('******** Test evaluation ********')\n",
    "    test_gen = datasets.h5_generator(feature_map, stage='test', **params)\n",
    "    test_result = model.evaluate(train_gen, test_gen)\n",
    "\n",
    "with open(Path(args['config']).stem + '.csv', 'a+') as fw:\n",
    "    fw.write(' {},[command] python {},[exp_id] {},[dataset_id] {},[train] {},[val] {},[test] {}\\n' \\\n",
    "        .format(datetime.now().strftime('%Y%m%d-%H%M%S'), \n",
    "                ' '.join(sys.argv), experiment_id, params['dataset_id'],\n",
    "                \"N.A.\", print_to_list(valid_result), print_to_list(test_result)))\n",
    "\n"
   ]
  },
  {
   "cell_type": "code",
   "execution_count": null,
   "id": "19507c78-24a2-4ec6-b260-100dc24aad6c",
   "metadata": {},
   "outputs": [],
   "source": []
  }
 ],
 "metadata": {
  "kernelspec": {
   "display_name": "Python 3 (ipykernel)",
   "language": "python",
   "name": "python3"
  },
  "language_info": {
   "codemirror_mode": {
    "name": "ipython",
    "version": 3
   },
   "file_extension": ".py",
   "mimetype": "text/x-python",
   "name": "python",
   "nbconvert_exporter": "python",
   "pygments_lexer": "ipython3",
   "version": "3.9.13"
  }
 },
 "nbformat": 4,
 "nbformat_minor": 5
}
